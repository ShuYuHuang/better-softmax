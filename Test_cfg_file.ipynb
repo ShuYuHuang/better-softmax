{
 "cells": [
  {
   "cell_type": "code",
   "execution_count": 1,
   "id": "1e68fb3b",
   "metadata": {},
   "outputs": [],
   "source": [
    "from utils import config"
   ]
  },
  {
   "cell_type": "code",
   "execution_count": 2,
   "id": "e288869a",
   "metadata": {},
   "outputs": [
    {
     "name": "stdout",
     "output_type": "stream",
     "text": [
      "---Configuration---\n"
     ]
    },
    {
     "data": {
      "text/plain": [
       "{'DATA': {'w': 28,\n",
       "  'h': 28,\n",
       "  'ch': 1,\n",
       "  'ways': 2,\n",
       "  'shots': 1,\n",
       "  'n_classes': 10,\n",
       "  'n_train_classes': 6,\n",
       "  'n_val_classes': 2,\n",
       "  'batch_size': 128,\n",
       "  'meta_batch_size': 32,\n",
       "  'mult': 40,\n",
       "  'epochs': 400,\n",
       "  'folder': './data'},\n",
       " 'MODEL': {'meta_type': 'paired', 'mode': 'cos', 'm': 0.5, 's': 0.3}}"
      ]
     },
     "metadata": {},
     "output_type": "display_data"
    },
    {
     "data": {
      "text/plain": [
       "------"
      ]
     },
     "execution_count": 2,
     "metadata": {},
     "output_type": "execute_result"
    }
   ],
   "source": [
    "cfg=config.read_config(\"default.cfg\")\n",
    "cfg"
   ]
  },
  {
   "cell_type": "code",
   "execution_count": 3,
   "id": "1c418046",
   "metadata": {},
   "outputs": [],
   "source": [
    "cfg.write(\"ddddd\")"
   ]
  },
  {
   "cell_type": "code",
   "execution_count": 18,
   "id": "ede2411c",
   "metadata": {},
   "outputs": [],
   "source": [
    "import os"
   ]
  },
  {
   "cell_type": "code",
   "execution_count": 19,
   "id": "d7931d6b",
   "metadata": {},
   "outputs": [
    {
     "data": {
      "text/plain": [
       "'\\n'"
      ]
     },
     "execution_count": 19,
     "metadata": {},
     "output_type": "execute_result"
    }
   ],
   "source": [
    "os.linesep"
   ]
  },
  {
   "cell_type": "code",
   "execution_count": 16,
   "id": "84928adc",
   "metadata": {},
   "outputs": [
    {
     "name": "stdout",
     "output_type": "stream",
     "text": [
      "[DATA]\n",
      "[MODEL]\n",
      "\n"
     ]
    }
   ],
   "source": [
    "encoding=\"utf-8-crlf\""
   ]
  },
  {
   "cell_type": "code",
   "execution_count": 8,
   "id": "85e19d97",
   "metadata": {},
   "outputs": [],
   "source": [
    "np.random.seed(2021)\n",
    "tf.random.set_seed(2021)\n",
    "(x_train, y_train), (x_test, y_test) = keras.datasets.mnist.load_data()\n",
    "x_train = x_train.astype(\"float32\") / 255\n",
    "x_test = x_test.astype(\"float32\") / 255\n",
    "\n",
    "x_train = np.expand_dims(x_train, -1)\n",
    "x_test = np.expand_dims(x_test, -1)\n",
    "\n",
    "y_train_1hot = keras.utils.to_categorical(y_train, cfg.n_classes)\n",
    "y_test_1hot = keras.utils.to_categorical(y_test, cfg.n_classes)"
   ]
  },
  {
   "cell_type": "code",
   "execution_count": 9,
   "id": "4aba1e6d",
   "metadata": {},
   "outputs": [
    {
     "ename": "AttributeError",
     "evalue": "'Cfg' object has no attribute 'batch_size'",
     "output_type": "error",
     "traceback": [
      "\u001b[0;31m---------------------------------------------------------------------------\u001b[0m",
      "\u001b[0;31mAttributeError\u001b[0m                            Traceback (most recent call last)",
      "\u001b[0;32m<ipython-input-9-f25f1693e8ab>\u001b[0m in \u001b[0;36m<module>\u001b[0;34m\u001b[0m\n\u001b[0;32m----> 1\u001b[0;31m \u001b[0mplt_x\u001b[0m\u001b[0;34m,\u001b[0m\u001b[0mplt_y\u001b[0m\u001b[0;34m=\u001b[0m\u001b[0mx_test\u001b[0m\u001b[0;34m[\u001b[0m\u001b[0;34m:\u001b[0m\u001b[0mcfg\u001b[0m\u001b[0;34m.\u001b[0m\u001b[0mbatch_size\u001b[0m\u001b[0;34m]\u001b[0m\u001b[0;34m,\u001b[0m\u001b[0my_test\u001b[0m\u001b[0;34m[\u001b[0m\u001b[0;34m:\u001b[0m\u001b[0mcfg\u001b[0m\u001b[0;34m.\u001b[0m\u001b[0mbatch_size\u001b[0m\u001b[0;34m]\u001b[0m\u001b[0;34m\u001b[0m\u001b[0;34m\u001b[0m\u001b[0m\n\u001b[0m",
      "\u001b[0;31mAttributeError\u001b[0m: 'Cfg' object has no attribute 'batch_size'"
     ]
    }
   ],
   "source": [
    "plt_x,plt_y=x_test[:cfg.batch_size],y_test[:cfg.batch_size]"
   ]
  },
  {
   "cell_type": "code",
   "execution_count": 10,
   "id": "ad339e06",
   "metadata": {},
   "outputs": [
    {
     "name": "stdout",
     "output_type": "stream",
     "text": [
      "---Configuration---\n"
     ]
    },
    {
     "data": {
      "text/plain": [
       "{'w': 28,\n",
       " 'h': 28,\n",
       " 'ch': 1,\n",
       " 'ways': 2,\n",
       " 'shots': 1,\n",
       " 'n_classes': 10,\n",
       " 'n_train_classes': 6,\n",
       " 'n_val_classes': 2,\n",
       " 'batch_size ': 128,\n",
       " 'meta_batch_size ': 32,\n",
       " 'mult': 40,\n",
       " 'epochs ': 400,\n",
       " 'folder': './data',\n",
       " 'meta_type': 'paired',\n",
       " 'mode': 'cos',\n",
       " 'm': 0.5,\n",
       " 's': 0.3}"
      ]
     },
     "metadata": {},
     "output_type": "display_data"
    },
    {
     "data": {
      "text/plain": [
       "------"
      ]
     },
     "execution_count": 10,
     "metadata": {},
     "output_type": "execute_result"
    }
   ],
   "source": []
  },
  {
   "cell_type": "code",
   "execution_count": null,
   "id": "a7d8543b",
   "metadata": {},
   "outputs": [],
   "source": []
  }
 ],
 "metadata": {
  "kernelspec": {
   "display_name": "Python 3 (ipykernel)",
   "language": "python",
   "name": "python3"
  },
  "language_info": {
   "codemirror_mode": {
    "name": "ipython",
    "version": 3
   },
   "file_extension": ".py",
   "mimetype": "text/x-python",
   "name": "python",
   "nbconvert_exporter": "python",
   "pygments_lexer": "ipython3",
   "version": "3.7.10"
  }
 },
 "nbformat": 4,
 "nbformat_minor": 5
}
