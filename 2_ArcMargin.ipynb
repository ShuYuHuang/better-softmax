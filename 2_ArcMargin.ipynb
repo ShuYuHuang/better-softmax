{
 "cells": [
  {
   "cell_type": "code",
   "execution_count": 1,
   "id": "b4f1f467",
   "metadata": {},
   "outputs": [],
   "source": [
    "import sys,math,pdb,time,re\n",
    "from pathlib import Path\n",
    "sys.path.append(str(Path(\"./\")))\n",
    "\n",
    "import numpy as np\n",
    "import matplotlib.pyplot as plt\n",
    "import IPython.display as dspl\n",
    "\n",
    "import torch\n",
    "import torchvision\n",
    "import torchvision.transforms as transforms\n",
    "\n",
    "from utils import gadget,nn_fn"
   ]
  },
  {
   "cell_type": "code",
   "execution_count": 2,
   "id": "780aa29a",
   "metadata": {},
   "outputs": [
    {
     "name": "stderr",
     "output_type": "stream",
     "text": [
      "/home/jovyan/.local/lib/python3.7/site-packages/torchvision/datasets/mnist.py:498: UserWarning: The given NumPy array is not writeable, and PyTorch does not support non-writeable tensors. This means you can write to the underlying (supposedly non-writeable) NumPy array using the tensor. You may want to copy the array to protect its data or make it writeable before converting it to a tensor. This type of warning will be suppressed for the rest of this program. (Triggered internally at  /pytorch/torch/csrc/utils/tensor_numpy.cpp:180.)\n",
      "  return torch.from_numpy(parsed.astype(m[2], copy=False)).view(*s)\n"
     ]
    }
   ],
   "source": [
    "'''Specify Data loader'''\n",
    "transform = transforms.Compose(\n",
    "    [transforms.ToTensor(),\n",
    "     transforms.Lambda(lambda x:x.repeat(3,1,1)) ,\n",
    "     transforms.Normalize((0.5, 0.5, 0.5), (0.5, 0.5, 0.5))])\n",
    "BATCH_SIZE = 64\n",
    "\n",
    "mnist_train = torchvision.datasets.MNIST(root='./data', train=True,download=True, transform=transform)\n",
    "trainset, valset = torch.utils.data.random_split(mnist_train, [55000, 5000])\n",
    "trainloader = torch.utils.data.DataLoader(trainset,\n",
    "                                          batch_size=BATCH_SIZE,\n",
    "                                          pin_memory=True,\n",
    "                                          shuffle=True)\n",
    "valloader = torch.utils.data.DataLoader(valset,\n",
    "                                          batch_size=BATCH_SIZE,\n",
    "                                          pin_memory=True,\n",
    "                                          shuffle=False)\n",
    "\n",
    "testset = torchvision.datasets.MNIST(root='./data', train=False,\n",
    "                                       download=True, transform=transform)\n",
    "testloader = torch.utils.data.DataLoader(testset, batch_size=BATCH_SIZE*4,\n",
    "                                          pin_memory=True,\n",
    "                                          shuffle=False)"
   ]
  },
  {
   "cell_type": "code",
   "execution_count": 3,
   "id": "03764267",
   "metadata": {},
   "outputs": [],
   "source": [
    "plt_x,plt_y=next(iter(testloader))\n",
    "(plt_x,plt_y) = [t.cuda() for t in (plt_x,plt_y) if t is not None]"
   ]
  },
  {
   "cell_type": "code",
   "execution_count": 4,
   "id": "257eb904",
   "metadata": {},
   "outputs": [
    {
     "data": {
      "text/plain": [
       "<matplotlib.image.AxesImage at 0x7ff47e640b50>"
      ]
     },
     "execution_count": 4,
     "metadata": {},
     "output_type": "execute_result"
    },
    {
     "data": {
      "image/png": "[encoded data removed]",
      "text/plain": [
       "<Figure size 432x288 with 1 Axes>"
      ]
     },
     "metadata": {
      "needs_background": "light"
     },
     "output_type": "display_data"
    }
   ],
   "source": [
    "# %matplotlib widget\n",
    "idx=2\n",
    "plt.imshow(plt_x[idx].cpu().numpy().transpose(1,2,0)/2+0.5)"
   ]
  },
  {
   "cell_type": "code",
   "execution_count": 5,
   "id": "64d731e0",
   "metadata": {},
   "outputs": [],
   "source": [
    "model=nn_fn.ClasModel(3,10,latent_features=2,hidden_featrues=128,mode=\"arc\",s=32,m=0.3,easy_margin=False).cuda()\n",
    "opt=torch.optim.Adam(model.parameters(),lr=1e-3)\n",
    "scheduler = torch.optim.lr_scheduler.CosineAnnealingWarmRestarts(opt, 1*len(trainset)//BATCH_SIZE, 1)\n",
    "# criterion=torch.nn.CrossEntropyLoss()\n",
    "criterion=nn_fn.FocalLoss(3)"
   ]
  },
  {
   "cell_type": "code",
   "execution_count": 6,
   "id": "f94dfc64",
   "metadata": {},
   "outputs": [
    {
     "data": {
      "text/plain": [
       "\"['epoch:11', 'session:train', 'loss:0.2698', 'acc:0.9585', 'weight:1.4054', 'latent:27.9559']\""
      ]
     },
     "metadata": {},
     "output_type": "display_data"
    },
    {
     "name": "stderr",
     "output_type": "stream",
     "text": [
      "/home/jovyan/.local/lib/python3.7/site-packages/torch/nn/functional.py:718: UserWarning: Named tensors and all their associated APIs are an experimental feature and subject to change. Please do not use them for anything important until they are released as stable. (Triggered internally at  /pytorch/c10/core/TensorImpl.h:1156.)\n",
      "  return torch.max_pool2d(input, kernel_size, stride, padding, dilation, ceil_mode)\n"
     ]
    }
   ],
   "source": [
    "EPOCHS=12\n",
    "weigh_norm=[]\n",
    "latent_norm=[]\n",
    "loss_mean_buff=None\n",
    "acc_mean_buff=None\n",
    "vloss_mean_buff=[]\n",
    "vacc_mean_buff=[]\n",
    "\n",
    "rec_arc=gadget.Rec()\n",
    "word_display=dspl.display(\"\",display_id=3)\n",
    "n_samples=0\n",
    "for ee in range(EPOCHS):\n",
    "    for ii,(x,y) in enumerate(trainloader):\n",
    "        (x,y) = [t.cuda() for t in (x,y) if t is not None]\n",
    "        opt.zero_grad()\n",
    "        pred,loss_,hiddens =model(x,y)\n",
    "        latent=hiddens[-1]\n",
    "        loss = criterion(loss_, y)\n",
    "        acc=gadget.mean_acc(pred,y)\n",
    "        \n",
    "        loss.backward()\n",
    "        if torch.isnan(model.out_net.weight.grad).any():\n",
    "            continue\n",
    "        opt.step()\n",
    "        scheduler.step()\n",
    "        \n",
    "        with torch.no_grad():\n",
    "            weight_norm=torch.norm(model.out_net.weight,2).item()\n",
    "            latent_norm=torch.norm(latent,2).item()\n",
    "            loss_mean_buff=(loss_mean_buff*ii+loss.item())/(ii+1) if loss_mean_buff else loss.item()\n",
    "            acc_mean_buff=(acc_mean_buff*ii+acc)/(ii+1) if acc_mean_buff else acc\n",
    "            gadget.show_progress(n_samples,\n",
    "                display_id=3,\n",
    "                epoch=ee,session=\"train\",\n",
    "                loss=loss_mean_buff,acc=acc_mean_buff,\n",
    "                weight=weight_norm,latent=latent_norm)\n",
    "\n",
    "            if n_samples%200==199:\n",
    "                _,hiddens =model(plt_x)\n",
    "                rec_arc.append(hiddens[-1],plt_y,n_samples+1)\n",
    "            n_samples+=1"
   ]
  },
  {
   "cell_type": "code",
   "execution_count": 15,
   "id": "375e6f88",
   "metadata": {},
   "outputs": [
    {
     "name": "stderr",
     "output_type": "stream",
     "text": [
      "/opt/conda/lib/python3.7/site-packages/pandas/core/frame.py:2963: SettingWithCopyWarning:\n",
      "\n",
      "\n",
      "A value is trying to be set on a copy of a slice from a DataFrame.\n",
      "Try using .loc[row_indexer,col_indexer] = value instead\n",
      "\n",
      "See the caveats in the documentation: https://pandas.pydata.org/pandas-docs/stable/user_guide/indexing.html#returning-a-view-versus-a-copy\n",
      "\n"
     ]
    }
   ],
   "source": [
    "rec_arc.normalize()"
   ]
  },
  {
   "cell_type": "code",
   "execution_count": 14,
   "id": "47ff8cf9",
   "metadata": {},
   "outputs": [],
   "source": [
    "rec_arc.df=rec_arc.df.query(\"arc<0.6\")"
   ]
  },
  {
   "cell_type": "code",
   "execution_count": 16,
   "id": "276fa22c",
   "metadata": {},
   "outputs": [
    {
     "name": "stdout",
     "output_type": "stream",
     "text": [
      "mkdir: cannot create directory ‘history’: File exists\n"
     ]
    }
   ],
   "source": [
    "fig=rec_arc.__repr__()\n",
    "%mkdir history\n",
    "fig.write_html(\"history/arc.html\")"
   ]
  },
  {
   "cell_type": "code",
   "execution_count": 9,
   "id": "85bdbe31",
   "metadata": {},
   "outputs": [],
   "source": [
    "torch.save(model.state_dict,\"history/arc.pt\")"
   ]
  },
  {
   "cell_type": "code",
   "execution_count": 10,
   "id": "b9758401",
   "metadata": {},
   "outputs": [],
   "source": [
    "rec_arc.df.to_csv(\"history/arc_latent.csv\")"
   ]
  },
  {
   "cell_type": "code",
   "execution_count": 23,
   "id": "bfc47300",
   "metadata": {},
   "outputs": [],
   "source": [
    "rec_arc=gadget.Rec()"
   ]
  },
  {
   "cell_type": "code",
   "execution_count": 24,
   "id": "dd6e9706",
   "metadata": {},
   "outputs": [],
   "source": [
    "rec_arc.df=pd.read_csv(\"history/arc_latent.csv\")"
   ]
  },
  {
   "cell_type": "code",
   "execution_count": 25,
   "id": "8da8bbf5",
   "metadata": {},
   "outputs": [],
   "source": [
    "import pandas as pd"
   ]
  },
  {
   "cell_type": "code",
   "execution_count": null,
   "id": "75767bcc",
   "metadata": {},
   "outputs": [],
   "source": [
    "import plotly.express as px\n",
    "fig=px.scatter(rec_arc.df, x=\"f1\", y=\"f2\", animation_frame=\"iterations\", color=\"label\",opacity=rec_arc.df.arc,\n",
    "              range_x=[-1.5,1.5],\n",
    "              range_y=[-1.5,1.5])\n",
    "fig.update_yaxes(\n",
    "    scaleanchor = \"x\",\n",
    "    scaleratio = 1,\n",
    ")"
   ]
  },
  {
   "cell_type": "code",
   "execution_count": 18,
   "id": "4384cde8",
   "metadata": {},
   "outputs": [],
   "source": [
    "fig.write_html(\"history/arc.html\")"
   ]
  },
  {
   "cell_type": "code",
   "execution_count": null,
   "id": "732de4fc",
   "metadata": {},
   "outputs": [],
   "source": []
  }
 ],
 "metadata": {
  "kernelspec": {
   "display_name": "Python 3 (ipykernel)",
   "language": "python",
   "name": "python3"
  },
  "language_info": {
   "codemirror_mode": {
    "name": "ipython",
    "version": 3
   },
   "file_extension": ".py",
   "mimetype": "text/x-python",
   "name": "python",
   "nbconvert_exporter": "python",
   "pygments_lexer": "ipython3",
   "version": "3.7.10"
  }
 },
 "nbformat": 4,
 "nbformat_minor": 5
}
