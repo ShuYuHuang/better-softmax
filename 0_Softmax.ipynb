{
 "cells": [
  {
   "cell_type": "code",
   "execution_count": 1,
   "id": "e3524130",
   "metadata": {},
   "outputs": [],
   "source": [
    "import sys,math,pdb,time,re\n",
    "from pathlib import Path\n",
    "sys.path.append(str(Path(\"./\")))\n",
    "\n",
    "import numpy as np\n",
    "import matplotlib.pyplot as plt\n",
    "import IPython.display as dspl\n",
    "\n",
    "import torch\n",
    "import torchvision\n",
    "import torchvision.transforms as transforms\n",
    "\n",
    "from utils import gadget,nn_fn"
   ]
  },
  {
   "cell_type": "code",
   "execution_count": 2,
   "id": "a0592fab",
   "metadata": {},
   "outputs": [
    {
     "name": "stderr",
     "output_type": "stream",
     "text": [
      "/home/jovyan/.local/lib/python3.7/site-packages/torchvision/datasets/mnist.py:498: UserWarning: The given NumPy array is not writeable, and PyTorch does not support non-writeable tensors. This means you can write to the underlying (supposedly non-writeable) NumPy array using the tensor. You may want to copy the array to protect its data or make it writeable before converting it to a tensor. This type of warning will be suppressed for the rest of this program. (Triggered internally at  /pytorch/torch/csrc/utils/tensor_numpy.cpp:180.)\n",
      "  return torch.from_numpy(parsed.astype(m[2], copy=False)).view(*s)\n"
     ]
    }
   ],
   "source": [
    "'''Specify Data loader'''\n",
    "transform = transforms.Compose(\n",
    "    [transforms.ToTensor(),\n",
    "     transforms.Lambda(lambda x:x.repeat(3,1,1)) ,\n",
    "     transforms.Normalize((0.5, 0.5, 0.5), (0.5, 0.5, 0.5))])\n",
    "BATCH_SIZE = 64\n",
    "\n",
    "mnist_train = torchvision.datasets.MNIST(root='./data', train=True,download=True, transform=transform)\n",
    "trainset, valset = torch.utils.data.random_split(mnist_train, [55000, 5000])\n",
    "trainloader = torch.utils.data.DataLoader(trainset,\n",
    "                                          batch_size=BATCH_SIZE,\n",
    "                                          pin_memory=True,\n",
    "                                          shuffle=True)\n",
    "valloader = torch.utils.data.DataLoader(valset,\n",
    "                                          batch_size=BATCH_SIZE,\n",
    "                                          pin_memory=True,\n",
    "                                          shuffle=False)\n",
    "\n",
    "testset = torchvision.datasets.MNIST(root='./data', train=False,\n",
    "                                       download=True, transform=transform)\n",
    "testloader = torch.utils.data.DataLoader(testset, batch_size=BATCH_SIZE*4,\n",
    "                                          pin_memory=True,\n",
    "                                          shuffle=False)"
   ]
  },
  {
   "cell_type": "code",
   "execution_count": 3,
   "id": "0d1e1955",
   "metadata": {},
   "outputs": [],
   "source": [
    "plt_x,plt_y=next(iter(testloader))\n",
    "(plt_x,plt_y) = [t.cuda() for t in (plt_x,plt_y) if t is not None]"
   ]
  },
  {
   "cell_type": "code",
   "execution_count": 4,
   "id": "72593c12",
   "metadata": {},
   "outputs": [
    {
     "data": {
      "text/plain": [
       "<matplotlib.image.AxesImage at 0x7efd0d51c390>"
      ]
     },
     "execution_count": 4,
     "metadata": {},
     "output_type": "execute_result"
    },
    {
     "data": {
      "image/png": "[encoded data removed]",
      "text/plain": [
       "<Figure size 432x288 with 1 Axes>"
      ]
     },
     "metadata": {
      "needs_background": "light"
     },
     "output_type": "display_data"
    }
   ],
   "source": [
    "# %matplotlib widget\n",
    "idx=2\n",
    "plt.imshow(plt_x[idx].cpu().numpy().transpose(1,2,0)/2+0.5)"
   ]
  },
  {
   "cell_type": "code",
   "execution_count": 5,
   "id": "8ae3f36c",
   "metadata": {},
   "outputs": [],
   "source": [
    "model=nn_fn.ClasModel(3,10,latent_features=2,hidden_featrues=128,mode=\"dense\").cuda()\n",
    "opt=torch.optim.Adam(model.parameters(),lr=1e-3)\n",
    "scheduler = torch.optim.lr_scheduler.CosineAnnealingWarmRestarts(opt, 1*len(trainset)//BATCH_SIZE, 1)\n",
    "# criterion=torch.nn.CrossEntropyLoss()\n",
    "criterion=nn_fn.FocalLoss(3)"
   ]
  },
  {
   "cell_type": "code",
   "execution_count": 6,
   "id": "25a2e59e",
   "metadata": {},
   "outputs": [
    {
     "data": {
      "text/plain": [
       "\"['epoch:9', 'session:train', 'loss:0.0042', 'acc:0.9540', 'weight:2.2827', 'latent:159.5387']\""
      ]
     },
     "metadata": {},
     "output_type": "display_data"
    },
    {
     "name": "stderr",
     "output_type": "stream",
     "text": [
      "/home/jovyan/.local/lib/python3.7/site-packages/torch/nn/functional.py:718: UserWarning: Named tensors and all their associated APIs are an experimental feature and subject to change. Please do not use them for anything important until they are released as stable. (Triggered internally at  /pytorch/c10/core/TensorImpl.h:1156.)\n",
      "  return torch.max_pool2d(input, kernel_size, stride, padding, dilation, ceil_mode)\n"
     ]
    }
   ],
   "source": [
    "EPOCHS=10\n",
    "weigh_norm=[]\n",
    "latent_norm=[]\n",
    "loss_mean_buff=[]\n",
    "acc_mean_buff=[]\n",
    "vloss_mean_buff=[]\n",
    "vacc_mean_buff=[]\n",
    "\n",
    "rec_dense=gadget.Rec()\n",
    "word_display=dspl.display(\"\",display_id=2)\n",
    "n_samples=0\n",
    "for ee in range(EPOCHS):\n",
    "    for ii,(x,y) in enumerate(trainloader):\n",
    "        (x,y) = [t.cuda() for t in (x,y) if t is not None]\n",
    "        opt.zero_grad()\n",
    "        pred,hiddens =model(x,y)\n",
    "        latent=hiddens[-1]\n",
    "        loss = criterion(pred, y)\n",
    "        acc=gadget.mean_acc(pred,y)\n",
    "\n",
    "        loss.backward()\n",
    "        opt.step()\n",
    "        scheduler.step()\n",
    "\n",
    "        with torch.no_grad():\n",
    "            weigh_norm=torch.norm(model.out_net.weight,2).item()\n",
    "            latent_norm=torch.norm(latent,2).item()\n",
    "            loss_mean_buff=(loss_mean_buff*ii+loss.item())/(ii+1) if ii>0 else loss.item()\n",
    "            acc_mean_buff=(acc_mean_buff*ii+acc)/(ii+1) if ii>0 else acc\n",
    "\n",
    "            gadget.show_progress(n_samples,display_id=2,\n",
    "                epoch=ee,session=\"train\",\n",
    "                loss=loss_mean_buff,acc=acc_mean_buff,\n",
    "                weight=weigh_norm,latent=latent_norm)\n",
    "\n",
    "            if n_samples%200==199:\n",
    "                _,hiddens =model(plt_x)\n",
    "                \n",
    "                rec_dense.append(hiddens[-1],plt_y,n_samples+1)\n",
    "            n_samples+=1"
   ]
  },
  {
   "cell_type": "code",
   "execution_count": 7,
   "id": "f6289ff5",
   "metadata": {},
   "outputs": [],
   "source": [
    "rec_dense.normalize()"
   ]
  },
  {
   "cell_type": "code",
   "execution_count": 8,
   "id": "62527b7b",
   "metadata": {},
   "outputs": [
    {
     "name": "stdout",
     "output_type": "stream",
     "text": [
      "mkdir: cannot create directory ‘history’: File exists\n"
     ]
    }
   ],
   "source": [
    "fig=rec_dense.__repr__()\n",
    "%mkdir history\n",
    "fig.write_html(\"history/dense.html\")"
   ]
  },
  {
   "cell_type": "code",
   "execution_count": null,
   "id": "1cfd0697",
   "metadata": {},
   "outputs": [],
   "source": []
  }
 ],
 "metadata": {
  "kernelspec": {
   "display_name": "Python 3 (ipykernel)",
   "language": "python",
   "name": "python3"
  },
  "language_info": {
   "codemirror_mode": {
    "name": "ipython",
    "version": 3
   },
   "file_extension": ".py",
   "mimetype": "text/x-python",
   "name": "python",
   "nbconvert_exporter": "python",
   "pygments_lexer": "ipython3",
   "version": "3.7.10"
  }
 },
 "nbformat": 4,
 "nbformat_minor": 5
}
